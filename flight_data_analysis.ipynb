{
 "metadata": {
  "language_info": {
   "codemirror_mode": {
    "name": "ipython",
    "version": 3
   },
   "file_extension": ".py",
   "mimetype": "text/x-python",
   "name": "python",
   "nbconvert_exporter": "python",
   "pygments_lexer": "ipython3",
   "version": "3.8.5-final"
  },
  "orig_nbformat": 2,
  "kernelspec": {
   "name": "python3",
   "display_name": "Python 3",
   "language": "python"
  }
 },
 "nbformat": 4,
 "nbformat_minor": 2,
 "cells": [
  {
   "source": [
    "# Performing data analysis on a large dataset using Python"
   ],
   "cell_type": "markdown",
   "metadata": {}
  },
  {
   "source": [
    "I have had the opportunity to study Python and data analysis as part of my MBA coursework this semester at Columbia Business School. For my Business Analytics II class, we were asked to analyze airline flight delays using Tableau. However, I thought that performing this analysis within Python would also be an interesting challenge. This notebook shows how I converted a dataset containing millions of flights. \n",
    "\n",
    "To operate on this data, I'll first import the Pandas library and then read the data from my 305-megabyte CSV file into a dataframe. Next, I'll apply various Pandas functions to the dataset to understand what this dataset contains and how it's structured."
   ],
   "cell_type": "markdown",
   "metadata": {}
  },
  {
   "cell_type": "code",
   "execution_count": 2,
   "metadata": {},
   "outputs": [],
   "source": [
    "import pandas as pd\n",
    "df = pd.read_csv(\"../flights.csv\")\n"
   ]
  },
  {
   "cell_type": "code",
   "execution_count": 3,
   "metadata": {},
   "outputs": [
    {
     "output_type": "execute_result",
     "data": {
      "text/plain": [
       "   Unnamed: 0  YEAR  MONTH  DAY  DAY_OF_WEEK AIRLINE ORIGIN_AIRPORT  \\\n",
       "0           0  2015      1    1            4      AS            ANC   \n",
       "1           1  2015      1    1            4      AA            LAX   \n",
       "2           2  2015      1    1            4      US            SFO   \n",
       "3           3  2015      1    1            4      AA            LAX   \n",
       "4           4  2015      1    1            4      AS            SEA   \n",
       "5           5  2015      1    1            4      DL            SFO   \n",
       "6           6  2015      1    1            4      NK            LAS   \n",
       "7           7  2015      1    1            4      US            LAX   \n",
       "8           8  2015      1    1            4      AA            SFO   \n",
       "9           9  2015      1    1            4      DL            LAS   \n",
       "\n",
       "  DESTINATION_AIRPORT  DEPARTURE_DELAY  DISTANCE  ARRIVAL_DELAY  DIVERTED  \\\n",
       "0                 SEA            -11.0      1448          -22.0         0   \n",
       "1                 PBI             -8.0      2330           -9.0         0   \n",
       "2                 CLT             -2.0      2296            5.0         0   \n",
       "3                 MIA             -5.0      2342           -9.0         0   \n",
       "4                 ANC             -1.0      1448          -21.0         0   \n",
       "5                 MSP             -5.0      1589            8.0         0   \n",
       "6                 MSP             -6.0      1299          -17.0         0   \n",
       "7                 CLT             14.0      2125          -10.0         0   \n",
       "8                 DFW            -11.0      1464          -13.0         0   \n",
       "9                 ATL              3.0      1747          -15.0         0   \n",
       "\n",
       "   CANCELLED  AIR_SYSTEM_DELAY  SECURITY_DELAY  AIRLINE_DELAY  \\\n",
       "0          0               NaN             NaN            NaN   \n",
       "1          0               NaN             NaN            NaN   \n",
       "2          0               NaN             NaN            NaN   \n",
       "3          0               NaN             NaN            NaN   \n",
       "4          0               NaN             NaN            NaN   \n",
       "5          0               NaN             NaN            NaN   \n",
       "6          0               NaN             NaN            NaN   \n",
       "7          0               NaN             NaN            NaN   \n",
       "8          0               NaN             NaN            NaN   \n",
       "9          0               NaN             NaN            NaN   \n",
       "\n",
       "   LATE_AIRCRAFT_DELAY  WEATHER_DELAY  DELAYED  \n",
       "0                  NaN            NaN        0  \n",
       "1                  NaN            NaN        0  \n",
       "2                  NaN            NaN        0  \n",
       "3                  NaN            NaN        0  \n",
       "4                  NaN            NaN        0  \n",
       "5                  NaN            NaN        0  \n",
       "6                  NaN            NaN        0  \n",
       "7                  NaN            NaN        0  \n",
       "8                  NaN            NaN        0  \n",
       "9                  NaN            NaN        0  "
      ],
      "text/html": "<div>\n<style scoped>\n    .dataframe tbody tr th:only-of-type {\n        vertical-align: middle;\n    }\n\n    .dataframe tbody tr th {\n        vertical-align: top;\n    }\n\n    .dataframe thead th {\n        text-align: right;\n    }\n</style>\n<table border=\"1\" class=\"dataframe\">\n  <thead>\n    <tr style=\"text-align: right;\">\n      <th></th>\n      <th>Unnamed: 0</th>\n      <th>YEAR</th>\n      <th>MONTH</th>\n      <th>DAY</th>\n      <th>DAY_OF_WEEK</th>\n      <th>AIRLINE</th>\n      <th>ORIGIN_AIRPORT</th>\n      <th>DESTINATION_AIRPORT</th>\n      <th>DEPARTURE_DELAY</th>\n      <th>DISTANCE</th>\n      <th>ARRIVAL_DELAY</th>\n      <th>DIVERTED</th>\n      <th>CANCELLED</th>\n      <th>AIR_SYSTEM_DELAY</th>\n      <th>SECURITY_DELAY</th>\n      <th>AIRLINE_DELAY</th>\n      <th>LATE_AIRCRAFT_DELAY</th>\n      <th>WEATHER_DELAY</th>\n      <th>DELAYED</th>\n    </tr>\n  </thead>\n  <tbody>\n    <tr>\n      <th>0</th>\n      <td>0</td>\n      <td>2015</td>\n      <td>1</td>\n      <td>1</td>\n      <td>4</td>\n      <td>AS</td>\n      <td>ANC</td>\n      <td>SEA</td>\n      <td>-11.0</td>\n      <td>1448</td>\n      <td>-22.0</td>\n      <td>0</td>\n      <td>0</td>\n      <td>NaN</td>\n      <td>NaN</td>\n      <td>NaN</td>\n      <td>NaN</td>\n      <td>NaN</td>\n      <td>0</td>\n    </tr>\n    <tr>\n      <th>1</th>\n      <td>1</td>\n      <td>2015</td>\n      <td>1</td>\n      <td>1</td>\n      <td>4</td>\n      <td>AA</td>\n      <td>LAX</td>\n      <td>PBI</td>\n      <td>-8.0</td>\n      <td>2330</td>\n      <td>-9.0</td>\n      <td>0</td>\n      <td>0</td>\n      <td>NaN</td>\n      <td>NaN</td>\n      <td>NaN</td>\n      <td>NaN</td>\n      <td>NaN</td>\n      <td>0</td>\n    </tr>\n    <tr>\n      <th>2</th>\n      <td>2</td>\n      <td>2015</td>\n      <td>1</td>\n      <td>1</td>\n      <td>4</td>\n      <td>US</td>\n      <td>SFO</td>\n      <td>CLT</td>\n      <td>-2.0</td>\n      <td>2296</td>\n      <td>5.0</td>\n      <td>0</td>\n      <td>0</td>\n      <td>NaN</td>\n      <td>NaN</td>\n      <td>NaN</td>\n      <td>NaN</td>\n      <td>NaN</td>\n      <td>0</td>\n    </tr>\n    <tr>\n      <th>3</th>\n      <td>3</td>\n      <td>2015</td>\n      <td>1</td>\n      <td>1</td>\n      <td>4</td>\n      <td>AA</td>\n      <td>LAX</td>\n      <td>MIA</td>\n      <td>-5.0</td>\n      <td>2342</td>\n      <td>-9.0</td>\n      <td>0</td>\n      <td>0</td>\n      <td>NaN</td>\n      <td>NaN</td>\n      <td>NaN</td>\n      <td>NaN</td>\n      <td>NaN</td>\n      <td>0</td>\n    </tr>\n    <tr>\n      <th>4</th>\n      <td>4</td>\n      <td>2015</td>\n      <td>1</td>\n      <td>1</td>\n      <td>4</td>\n      <td>AS</td>\n      <td>SEA</td>\n      <td>ANC</td>\n      <td>-1.0</td>\n      <td>1448</td>\n      <td>-21.0</td>\n      <td>0</td>\n      <td>0</td>\n      <td>NaN</td>\n      <td>NaN</td>\n      <td>NaN</td>\n      <td>NaN</td>\n      <td>NaN</td>\n      <td>0</td>\n    </tr>\n    <tr>\n      <th>5</th>\n      <td>5</td>\n      <td>2015</td>\n      <td>1</td>\n      <td>1</td>\n      <td>4</td>\n      <td>DL</td>\n      <td>SFO</td>\n      <td>MSP</td>\n      <td>-5.0</td>\n      <td>1589</td>\n      <td>8.0</td>\n      <td>0</td>\n      <td>0</td>\n      <td>NaN</td>\n      <td>NaN</td>\n      <td>NaN</td>\n      <td>NaN</td>\n      <td>NaN</td>\n      <td>0</td>\n    </tr>\n    <tr>\n      <th>6</th>\n      <td>6</td>\n      <td>2015</td>\n      <td>1</td>\n      <td>1</td>\n      <td>4</td>\n      <td>NK</td>\n      <td>LAS</td>\n      <td>MSP</td>\n      <td>-6.0</td>\n      <td>1299</td>\n      <td>-17.0</td>\n      <td>0</td>\n      <td>0</td>\n      <td>NaN</td>\n      <td>NaN</td>\n      <td>NaN</td>\n      <td>NaN</td>\n      <td>NaN</td>\n      <td>0</td>\n    </tr>\n    <tr>\n      <th>7</th>\n      <td>7</td>\n      <td>2015</td>\n      <td>1</td>\n      <td>1</td>\n      <td>4</td>\n      <td>US</td>\n      <td>LAX</td>\n      <td>CLT</td>\n      <td>14.0</td>\n      <td>2125</td>\n      <td>-10.0</td>\n      <td>0</td>\n      <td>0</td>\n      <td>NaN</td>\n      <td>NaN</td>\n      <td>NaN</td>\n      <td>NaN</td>\n      <td>NaN</td>\n      <td>0</td>\n    </tr>\n    <tr>\n      <th>8</th>\n      <td>8</td>\n      <td>2015</td>\n      <td>1</td>\n      <td>1</td>\n      <td>4</td>\n      <td>AA</td>\n      <td>SFO</td>\n      <td>DFW</td>\n      <td>-11.0</td>\n      <td>1464</td>\n      <td>-13.0</td>\n      <td>0</td>\n      <td>0</td>\n      <td>NaN</td>\n      <td>NaN</td>\n      <td>NaN</td>\n      <td>NaN</td>\n      <td>NaN</td>\n      <td>0</td>\n    </tr>\n    <tr>\n      <th>9</th>\n      <td>9</td>\n      <td>2015</td>\n      <td>1</td>\n      <td>1</td>\n      <td>4</td>\n      <td>DL</td>\n      <td>LAS</td>\n      <td>ATL</td>\n      <td>3.0</td>\n      <td>1747</td>\n      <td>-15.0</td>\n      <td>0</td>\n      <td>0</td>\n      <td>NaN</td>\n      <td>NaN</td>\n      <td>NaN</td>\n      <td>NaN</td>\n      <td>NaN</td>\n      <td>0</td>\n    </tr>\n  </tbody>\n</table>\n</div>"
     },
     "metadata": {},
     "execution_count": 3
    }
   ],
   "source": [
    "df.head(10) #Displays first 10 rows\n",
    "\n"
   ]
  },
  {
   "cell_type": "code",
   "execution_count": 4,
   "metadata": {},
   "outputs": [
    {
     "output_type": "execute_result",
     "data": {
      "text/plain": [
       "         Unnamed: 0  YEAR  MONTH  DAY  DAY_OF_WEEK AIRLINE ORIGIN_AIRPORT  \\\n",
       "5332904     5819069  2015     12   31            4      B6            LAS   \n",
       "5332905     5819070  2015     12   31            4      B6            RNO   \n",
       "5332906     5819071  2015     12   31            4      B6            SLC   \n",
       "5332907     5819072  2015     12   31            4      B6            DEN   \n",
       "5332908     5819073  2015     12   31            4      B6            ABQ   \n",
       "5332909     5819074  2015     12   31            4      B6            LAX   \n",
       "5332910     5819075  2015     12   31            4      B6            JFK   \n",
       "5332911     5819076  2015     12   31            4      B6            JFK   \n",
       "5332912     5819077  2015     12   31            4      B6            MCO   \n",
       "5332913     5819078  2015     12   31            4      B6            JFK   \n",
       "\n",
       "        DESTINATION_AIRPORT  DEPARTURE_DELAY  DISTANCE  ARRIVAL_DELAY  \\\n",
       "5332904                 JFK            159.0      2248          159.0   \n",
       "5332905                 JFK              0.0      2411          -21.0   \n",
       "5332906                 MCO             16.0      1931           17.0   \n",
       "5332907                 JFK              7.0      1626          -11.0   \n",
       "5332908                 JFK             16.0      1826            3.0   \n",
       "5332909                 BOS             -4.0      2611          -26.0   \n",
       "5332910                 PSE             -4.0      1617          -16.0   \n",
       "5332911                 SJU             -9.0      1598           -8.0   \n",
       "5332912                 SJU             -6.0      1189          -10.0   \n",
       "5332913                 BQN             15.0      1576            2.0   \n",
       "\n",
       "         DIVERTED  CANCELLED  AIR_SYSTEM_DELAY  SECURITY_DELAY  AIRLINE_DELAY  \\\n",
       "5332904         0          0               0.0             0.0          159.0   \n",
       "5332905         0          0               NaN             NaN            NaN   \n",
       "5332906         0          0               1.0             0.0           16.0   \n",
       "5332907         0          0               NaN             NaN            NaN   \n",
       "5332908         0          0               NaN             NaN            NaN   \n",
       "5332909         0          0               NaN             NaN            NaN   \n",
       "5332910         0          0               NaN             NaN            NaN   \n",
       "5332911         0          0               NaN             NaN            NaN   \n",
       "5332912         0          0               NaN             NaN            NaN   \n",
       "5332913         0          0               NaN             NaN            NaN   \n",
       "\n",
       "         LATE_AIRCRAFT_DELAY  WEATHER_DELAY  DELAYED  \n",
       "5332904                  0.0            0.0        1  \n",
       "5332905                  NaN            NaN        0  \n",
       "5332906                  0.0            0.0        1  \n",
       "5332907                  NaN            NaN        0  \n",
       "5332908                  NaN            NaN        0  \n",
       "5332909                  NaN            NaN        0  \n",
       "5332910                  NaN            NaN        0  \n",
       "5332911                  NaN            NaN        0  \n",
       "5332912                  NaN            NaN        0  \n",
       "5332913                  NaN            NaN        0  "
      ],
      "text/html": "<div>\n<style scoped>\n    .dataframe tbody tr th:only-of-type {\n        vertical-align: middle;\n    }\n\n    .dataframe tbody tr th {\n        vertical-align: top;\n    }\n\n    .dataframe thead th {\n        text-align: right;\n    }\n</style>\n<table border=\"1\" class=\"dataframe\">\n  <thead>\n    <tr style=\"text-align: right;\">\n      <th></th>\n      <th>Unnamed: 0</th>\n      <th>YEAR</th>\n      <th>MONTH</th>\n      <th>DAY</th>\n      <th>DAY_OF_WEEK</th>\n      <th>AIRLINE</th>\n      <th>ORIGIN_AIRPORT</th>\n      <th>DESTINATION_AIRPORT</th>\n      <th>DEPARTURE_DELAY</th>\n      <th>DISTANCE</th>\n      <th>ARRIVAL_DELAY</th>\n      <th>DIVERTED</th>\n      <th>CANCELLED</th>\n      <th>AIR_SYSTEM_DELAY</th>\n      <th>SECURITY_DELAY</th>\n      <th>AIRLINE_DELAY</th>\n      <th>LATE_AIRCRAFT_DELAY</th>\n      <th>WEATHER_DELAY</th>\n      <th>DELAYED</th>\n    </tr>\n  </thead>\n  <tbody>\n    <tr>\n      <th>5332904</th>\n      <td>5819069</td>\n      <td>2015</td>\n      <td>12</td>\n      <td>31</td>\n      <td>4</td>\n      <td>B6</td>\n      <td>LAS</td>\n      <td>JFK</td>\n      <td>159.0</td>\n      <td>2248</td>\n      <td>159.0</td>\n      <td>0</td>\n      <td>0</td>\n      <td>0.0</td>\n      <td>0.0</td>\n      <td>159.0</td>\n      <td>0.0</td>\n      <td>0.0</td>\n      <td>1</td>\n    </tr>\n    <tr>\n      <th>5332905</th>\n      <td>5819070</td>\n      <td>2015</td>\n      <td>12</td>\n      <td>31</td>\n      <td>4</td>\n      <td>B6</td>\n      <td>RNO</td>\n      <td>JFK</td>\n      <td>0.0</td>\n      <td>2411</td>\n      <td>-21.0</td>\n      <td>0</td>\n      <td>0</td>\n      <td>NaN</td>\n      <td>NaN</td>\n      <td>NaN</td>\n      <td>NaN</td>\n      <td>NaN</td>\n      <td>0</td>\n    </tr>\n    <tr>\n      <th>5332906</th>\n      <td>5819071</td>\n      <td>2015</td>\n      <td>12</td>\n      <td>31</td>\n      <td>4</td>\n      <td>B6</td>\n      <td>SLC</td>\n      <td>MCO</td>\n      <td>16.0</td>\n      <td>1931</td>\n      <td>17.0</td>\n      <td>0</td>\n      <td>0</td>\n      <td>1.0</td>\n      <td>0.0</td>\n      <td>16.0</td>\n      <td>0.0</td>\n      <td>0.0</td>\n      <td>1</td>\n    </tr>\n    <tr>\n      <th>5332907</th>\n      <td>5819072</td>\n      <td>2015</td>\n      <td>12</td>\n      <td>31</td>\n      <td>4</td>\n      <td>B6</td>\n      <td>DEN</td>\n      <td>JFK</td>\n      <td>7.0</td>\n      <td>1626</td>\n      <td>-11.0</td>\n      <td>0</td>\n      <td>0</td>\n      <td>NaN</td>\n      <td>NaN</td>\n      <td>NaN</td>\n      <td>NaN</td>\n      <td>NaN</td>\n      <td>0</td>\n    </tr>\n    <tr>\n      <th>5332908</th>\n      <td>5819073</td>\n      <td>2015</td>\n      <td>12</td>\n      <td>31</td>\n      <td>4</td>\n      <td>B6</td>\n      <td>ABQ</td>\n      <td>JFK</td>\n      <td>16.0</td>\n      <td>1826</td>\n      <td>3.0</td>\n      <td>0</td>\n      <td>0</td>\n      <td>NaN</td>\n      <td>NaN</td>\n      <td>NaN</td>\n      <td>NaN</td>\n      <td>NaN</td>\n      <td>0</td>\n    </tr>\n    <tr>\n      <th>5332909</th>\n      <td>5819074</td>\n      <td>2015</td>\n      <td>12</td>\n      <td>31</td>\n      <td>4</td>\n      <td>B6</td>\n      <td>LAX</td>\n      <td>BOS</td>\n      <td>-4.0</td>\n      <td>2611</td>\n      <td>-26.0</td>\n      <td>0</td>\n      <td>0</td>\n      <td>NaN</td>\n      <td>NaN</td>\n      <td>NaN</td>\n      <td>NaN</td>\n      <td>NaN</td>\n      <td>0</td>\n    </tr>\n    <tr>\n      <th>5332910</th>\n      <td>5819075</td>\n      <td>2015</td>\n      <td>12</td>\n      <td>31</td>\n      <td>4</td>\n      <td>B6</td>\n      <td>JFK</td>\n      <td>PSE</td>\n      <td>-4.0</td>\n      <td>1617</td>\n      <td>-16.0</td>\n      <td>0</td>\n      <td>0</td>\n      <td>NaN</td>\n      <td>NaN</td>\n      <td>NaN</td>\n      <td>NaN</td>\n      <td>NaN</td>\n      <td>0</td>\n    </tr>\n    <tr>\n      <th>5332911</th>\n      <td>5819076</td>\n      <td>2015</td>\n      <td>12</td>\n      <td>31</td>\n      <td>4</td>\n      <td>B6</td>\n      <td>JFK</td>\n      <td>SJU</td>\n      <td>-9.0</td>\n      <td>1598</td>\n      <td>-8.0</td>\n      <td>0</td>\n      <td>0</td>\n      <td>NaN</td>\n      <td>NaN</td>\n      <td>NaN</td>\n      <td>NaN</td>\n      <td>NaN</td>\n      <td>0</td>\n    </tr>\n    <tr>\n      <th>5332912</th>\n      <td>5819077</td>\n      <td>2015</td>\n      <td>12</td>\n      <td>31</td>\n      <td>4</td>\n      <td>B6</td>\n      <td>MCO</td>\n      <td>SJU</td>\n      <td>-6.0</td>\n      <td>1189</td>\n      <td>-10.0</td>\n      <td>0</td>\n      <td>0</td>\n      <td>NaN</td>\n      <td>NaN</td>\n      <td>NaN</td>\n      <td>NaN</td>\n      <td>NaN</td>\n      <td>0</td>\n    </tr>\n    <tr>\n      <th>5332913</th>\n      <td>5819078</td>\n      <td>2015</td>\n      <td>12</td>\n      <td>31</td>\n      <td>4</td>\n      <td>B6</td>\n      <td>JFK</td>\n      <td>BQN</td>\n      <td>15.0</td>\n      <td>1576</td>\n      <td>2.0</td>\n      <td>0</td>\n      <td>0</td>\n      <td>NaN</td>\n      <td>NaN</td>\n      <td>NaN</td>\n      <td>NaN</td>\n      <td>NaN</td>\n      <td>0</td>\n    </tr>\n  </tbody>\n</table>\n</div>"
     },
     "metadata": {},
     "execution_count": 4
    }
   ],
   "source": [
    "df.tail(10) # Displays final 10 rows\n"
   ]
  },
  {
   "cell_type": "code",
   "execution_count": 5,
   "metadata": {},
   "outputs": [
    {
     "output_type": "execute_result",
     "data": {
      "text/plain": [
       "(5332914, 19)"
      ]
     },
     "metadata": {},
     "execution_count": 5
    }
   ],
   "source": [
    "df.shape # Returns # of rows and # of columns as a tuple\n"
   ]
  },
  {
   "cell_type": "code",
   "execution_count": 6,
   "metadata": {},
   "outputs": [
    {
     "output_type": "execute_result",
     "data": {
      "text/plain": [
       "101325366"
      ]
     },
     "metadata": {},
     "execution_count": 6
    }
   ],
   "source": [
    "df.size # Prints the number of values (rows * columns)"
   ]
  },
  {
   "cell_type": "code",
   "execution_count": 7,
   "metadata": {},
   "outputs": [
    {
     "output_type": "stream",
     "name": "stdout",
     "text": [
      "<class 'pandas.core.frame.DataFrame'>\nRangeIndex: 5332914 entries, 0 to 5332913\nData columns (total 19 columns):\n #   Column               Dtype  \n---  ------               -----  \n 0   Unnamed: 0           int64  \n 1   YEAR                 int64  \n 2   MONTH                int64  \n 3   DAY                  int64  \n 4   DAY_OF_WEEK          int64  \n 5   AIRLINE              object \n 6   ORIGIN_AIRPORT       object \n 7   DESTINATION_AIRPORT  object \n 8   DEPARTURE_DELAY      float64\n 9   DISTANCE             int64  \n 10  ARRIVAL_DELAY        float64\n 11  DIVERTED             int64  \n 12  CANCELLED            int64  \n 13  AIR_SYSTEM_DELAY     float64\n 14  SECURITY_DELAY       float64\n 15  AIRLINE_DELAY        float64\n 16  LATE_AIRCRAFT_DELAY  float64\n 17  WEATHER_DELAY        float64\n 18  DELAYED              int64  \ndtypes: float64(7), int64(9), object(3)\nmemory usage: 773.1+ MB\n"
     ]
    }
   ],
   "source": [
    "df.info()"
   ]
  },
  {
   "source": [
    "As shown by the shape() function, this dataset contains over 5.3 million rows, which well exceeds the number of rows that Excel can display. Therefore, it makes sense to analyze this data using Python instead."
   ],
   "cell_type": "markdown",
   "metadata": {}
  },
  {
   "source": [
    "In order to analyze flight delays by airline, I'll first want to figure out which airlines are in our dataset, then store those names into an array. Having an array of airline names will make it easier to perform analyses on each airline.\n",
    "After creating the array, I'll loop through it to make sure everything looks correct."
   ],
   "cell_type": "markdown",
   "metadata": {}
  },
  {
   "cell_type": "code",
   "execution_count": 8,
   "metadata": {},
   "outputs": [
    {
     "output_type": "stream",
     "name": "stdout",
     "text": [
      "AS\nAA\nUS\nDL\nNK\nUA\nHA\nB6\nOO\nEV\nMQ\nF9\nWN\nVX\n"
     ]
    }
   ],
   "source": [
    "airlines_array = df['AIRLINE'].unique()\n",
    "for airline in airlines_array:\n",
    "    print(airline)"
   ]
  },
  {
   "source": [
    "Note that these airline values are actually IATA airline codes, which don't always resemble the airlines' names. For instance, NK corresponds to Spirit Airlines, and F9 corresponds to Frontier Airlines. Wikipedia has a list of which airline codes correspond to which airlines: https://en.wikipedia.org/wiki/List_of_airline_codes"
   ],
   "cell_type": "markdown",
   "metadata": {}
  },
  {
   "source": [
    "I now plan to evaluate the average arrival delays for each of these airlines. My goal will be to create a DataFrame (i.e. a table within Pandas) that contains four columns:\n",
    "\n",
    "1. The airline code\n",
    "\n",
    "2. The mean arrival delay (in minutes) for all of that airline's flights that had a delay greater than 0. (I only want to include flights with a delay greater than 0 because, as shown by the head() and tail() functions above, early arrivals are represented as negative arrival delays. Since those 'negative' delays offset the actual delays, I want to limit my analysis to delays with positive values. (This column will be labeled \"mean_arrival_delay\".) This value serves to answer the question: \"Among all the airline's flights that had a delay, how bad was the delay on average?\"\n",
    "\n",
    "3. The proportion of the airline's flights that had a delay greater than 0. (This column will be labeled \"proportion_delayed\".)\n",
    "\n",
    "4. The product of the above two columns, which will represent the expected value of an airline's flight delays (in minutes). For example, if the mean arrival delay is 30 minutes, and 0.5 (50%) of the airline's flights are delayed, this will equal an expected value of 15 minutes. This column will make it easier to compare delay times across airlines. (This column will be labeled \"delay_expected_value\".)\n",
    "\n",
    "To build this DataFrame, I will first create an empty dictionary of dictionaries called \"airline_arrival_delay_data\". The keys of this dictionary will be airline codes, and the values will themselves be dictionaries. Each dictionary within airline_arrival_delay_data will have three key-value pairs that correspond to the data points in the above description (e.g. the mean arrival delay; the proportion of flights that were delayed; and the expected value of the delay).\n",
    "\n",
    "For each airline, the code block below builds a dictionary (airline_dict); calculates the three values described above; and stores them into airline_dict under their respective keys. Once this process is complete, airline_dict itself is stored into airline_arrival_delay_data with the airline code as the key. At the end of the block, I print out the airline_arrival_delay_data dictionary. \n",
    "\n"
   ],
   "cell_type": "markdown",
   "metadata": {}
  },
  {
   "cell_type": "code",
   "execution_count": 9,
   "metadata": {},
   "outputs": [
    {
     "output_type": "stream",
     "name": "stdout",
     "text": [
      "Average arrival delay (among delays greater than 0) for AS 22.80629539951574\n",
      "Average arrival delay (among delays greater than 0) for AA 34.612147110454806\n",
      "Average arrival delay (among delays greater than 0) for US 27.41992528019925\n",
      "Average arrival delay (among delays greater than 0) for DL 32.58149609147273\n",
      "Average arrival delay (among delays greater than 0) for NK 41.44997530113615\n",
      "Average arrival delay (among delays greater than 0) for UA 39.6580342355456\n",
      "Average arrival delay (among delays greater than 0) for HA 15.51550082336937\n",
      "Average arrival delay (among delays greater than 0) for B6 38.89763343242869\n",
      "Average arrival delay (among delays greater than 0) for OO 33.00360595030398\n",
      "Average arrival delay (among delays greater than 0) for EV 35.700212217674704\n",
      "Average arrival delay (among delays greater than 0) for MQ 39.74337582390879\n",
      "Average arrival delay (among delays greater than 0) for F9 42.062584014062665\n",
      "Average arrival delay (among delays greater than 0) for WN 29.822739130829994\n",
      "Average arrival delay (among delays greater than 0) for VX 30.85802913145118\n"
     ]
    },
    {
     "output_type": "execute_result",
     "data": {
      "text/plain": [
       "{'AS': {'mean_arrival_delay': 22.80629539951574,\n",
       "  'proportion_delayed': 0.33185493565490276,\n",
       "  'delay_expected_value': 7.568381692333001},\n",
       " 'AA': {'mean_arrival_delay': 34.612147110454806,\n",
       "  'proportion_delayed': 0.3538941319019445,\n",
       "  'delay_expected_value': 12.2490357549168},\n",
       " 'US': {'mean_arrival_delay': 27.41992528019925,\n",
       "  'proportion_delayed': 0.38389150290617213,\n",
       "  'delay_expected_value': 10.526276325390633},\n",
       " 'DL': {'mean_arrival_delay': 32.58149609147273,\n",
       "  'proportion_delayed': 0.29362799548685603,\n",
       "  'delay_expected_value': 9.566839387301972},\n",
       " 'NK': {'mean_arrival_delay': 41.44997530113615,\n",
       "  'proportion_delayed': 0.4911216653758946,\n",
       "  'delay_expected_value': 20.356980899683684},\n",
       " 'UA': {'mean_arrival_delay': 39.6580342355456,\n",
       "  'proportion_delayed': 0.3714053410921846,\n",
       "  'delay_expected_value': 14.729205732298347},\n",
       " 'HA': {'mean_arrival_delay': 15.51550082336937,\n",
       "  'proportion_delayed': 0.39888619163215766,\n",
       "  'delay_expected_value': 6.188919034699414},\n",
       " 'B6': {'mean_arrival_delay': 38.89763343242869,\n",
       "  'proportion_delayed': 0.3828461867950313,\n",
       "  'delay_expected_value': 14.891810634956249},\n",
       " 'OO': {'mean_arrival_delay': 33.00360595030398,\n",
       "  'proportion_delayed': 0.3813787543207703,\n",
       "  'delay_expected_value': 12.586874125420493},\n",
       " 'EV': {'mean_arrival_delay': 35.700212217674704,\n",
       "  'proportion_delayed': 0.3760767241362929,\n",
       "  'delay_expected_value': 13.426018861793562},\n",
       " 'MQ': {'mean_arrival_delay': 39.74337582390879,\n",
       "  'proportion_delayed': 0.3622483036860444,\n",
       "  'delay_expected_value': 14.396970474967906},\n",
       " 'F9': {'mean_arrival_delay': 42.062584014062665,\n",
       "  'proportion_delayed': 0.4675651175439657,\n",
       "  'delay_expected_value': 19.666997038738142},\n",
       " 'WN': {'mean_arrival_delay': 29.822739130829994,\n",
       "  'proportion_delayed': 0.3802274009603064,\n",
       "  'delay_expected_value': 11.339422589232715},\n",
       " 'VX': {'mean_arrival_delay': 30.85802913145118,\n",
       "  'proportion_delayed': 0.39412463013164656,\n",
       "  'delay_expected_value': 12.16190931802477}}"
      ]
     },
     "metadata": {},
     "execution_count": 9
    }
   ],
   "source": [
    "airline_arrival_delay_data = {}\n",
    "for airline in airlines_array:\n",
    "    airline_dict = {}\n",
    "    mean_arrival_delay = df[(df.AIRLINE==airline) & (df.ARRIVAL_DELAY > 0)].ARRIVAL_DELAY.mean()\n",
    "    # The above line finds all rows within df, our original DataFrame, that (1) correspond to the current airline within our for loop and (2) have an arrival delay greater than 0. It then finds the mean arrival delay of all these rows and stores it in the mean_arrival_delay variable.\n",
    "    proportion_delayed = df[(df.AIRLINE==airline) & (df.ARRIVAL_DELAY > 0)].AIRLINE.count()/df[(df.AIRLINE==airline)].AIRLINE.count()\n",
    "    # The above line finds, for the current airline within our for loop, the number of flights that had an arrival day greater than 0. It then divides this number by the total number of flights and stores this proportion within the proportion_delayed variable.\n",
    "    delay_expected_value = mean_arrival_delay*proportion_delayed\n",
    "    print(\"Average arrival delay (among delays greater than 0) for\" , airline, mean_arrival_delay) # Since this block of code takes a while to execute for my computer, this print statement helps me keep track of the code's progress.\n",
    "    # The following three lines of code store the variables we calculated above within airline_dict.\n",
    "    airline_dict ['mean_arrival_delay'] = mean_arrival_delay \n",
    "    airline_dict ['proportion_delayed'] = proportion_delayed\n",
    "    airline_dict ['delay_expected_value'] = delay_expected_value\n",
    "    # Finally, we store this instance of airline_dict as a value within airline_arrival_delay_data, with the current airline within our for loop as the key.\n",
    "    airline_arrival_delay_data[airline] = airline_dict\n",
    "airline_arrival_delay_data # Prints out our dictionary of dictionaries so that we can confirm the code ran correctly\n",
    "\n",
    "  "
   ]
  },
  {
   "source": [
    "Now that I have my dictionary of dictionaries, it's easy to convert it to a DataFrame using the Pandas function DataFrame.from_dict(). I'll also transpose the DataFrame so that the airlines show up as rows, not columns, and give the index the name \"airline.\" "
   ],
   "cell_type": "markdown",
   "metadata": {}
  },
  {
   "cell_type": "code",
   "execution_count": 10,
   "metadata": {},
   "outputs": [
    {
     "output_type": "execute_result",
     "data": {
      "text/plain": [
       "         mean_arrival_delay  proportion_delayed  delay_expected_value\n",
       "airline                                                              \n",
       "AS                22.806295            0.331855              7.568382\n",
       "AA                34.612147            0.353894             12.249036\n",
       "US                27.419925            0.383892             10.526276\n",
       "DL                32.581496            0.293628              9.566839\n",
       "NK                41.449975            0.491122             20.356981\n",
       "UA                39.658034            0.371405             14.729206\n",
       "HA                15.515501            0.398886              6.188919\n",
       "B6                38.897633            0.382846             14.891811\n",
       "OO                33.003606            0.381379             12.586874\n",
       "EV                35.700212            0.376077             13.426019\n",
       "MQ                39.743376            0.362248             14.396970\n",
       "F9                42.062584            0.467565             19.666997\n",
       "WN                29.822739            0.380227             11.339423\n",
       "VX                30.858029            0.394125             12.161909"
      ],
      "text/html": "<div>\n<style scoped>\n    .dataframe tbody tr th:only-of-type {\n        vertical-align: middle;\n    }\n\n    .dataframe tbody tr th {\n        vertical-align: top;\n    }\n\n    .dataframe thead th {\n        text-align: right;\n    }\n</style>\n<table border=\"1\" class=\"dataframe\">\n  <thead>\n    <tr style=\"text-align: right;\">\n      <th></th>\n      <th>mean_arrival_delay</th>\n      <th>proportion_delayed</th>\n      <th>delay_expected_value</th>\n    </tr>\n    <tr>\n      <th>airline</th>\n      <th></th>\n      <th></th>\n      <th></th>\n    </tr>\n  </thead>\n  <tbody>\n    <tr>\n      <th>AS</th>\n      <td>22.806295</td>\n      <td>0.331855</td>\n      <td>7.568382</td>\n    </tr>\n    <tr>\n      <th>AA</th>\n      <td>34.612147</td>\n      <td>0.353894</td>\n      <td>12.249036</td>\n    </tr>\n    <tr>\n      <th>US</th>\n      <td>27.419925</td>\n      <td>0.383892</td>\n      <td>10.526276</td>\n    </tr>\n    <tr>\n      <th>DL</th>\n      <td>32.581496</td>\n      <td>0.293628</td>\n      <td>9.566839</td>\n    </tr>\n    <tr>\n      <th>NK</th>\n      <td>41.449975</td>\n      <td>0.491122</td>\n      <td>20.356981</td>\n    </tr>\n    <tr>\n      <th>UA</th>\n      <td>39.658034</td>\n      <td>0.371405</td>\n      <td>14.729206</td>\n    </tr>\n    <tr>\n      <th>HA</th>\n      <td>15.515501</td>\n      <td>0.398886</td>\n      <td>6.188919</td>\n    </tr>\n    <tr>\n      <th>B6</th>\n      <td>38.897633</td>\n      <td>0.382846</td>\n      <td>14.891811</td>\n    </tr>\n    <tr>\n      <th>OO</th>\n      <td>33.003606</td>\n      <td>0.381379</td>\n      <td>12.586874</td>\n    </tr>\n    <tr>\n      <th>EV</th>\n      <td>35.700212</td>\n      <td>0.376077</td>\n      <td>13.426019</td>\n    </tr>\n    <tr>\n      <th>MQ</th>\n      <td>39.743376</td>\n      <td>0.362248</td>\n      <td>14.396970</td>\n    </tr>\n    <tr>\n      <th>F9</th>\n      <td>42.062584</td>\n      <td>0.467565</td>\n      <td>19.666997</td>\n    </tr>\n    <tr>\n      <th>WN</th>\n      <td>29.822739</td>\n      <td>0.380227</td>\n      <td>11.339423</td>\n    </tr>\n    <tr>\n      <th>VX</th>\n      <td>30.858029</td>\n      <td>0.394125</td>\n      <td>12.161909</td>\n    </tr>\n  </tbody>\n</table>\n</div>"
     },
     "metadata": {},
     "execution_count": 10
    }
   ],
   "source": [
    "df_airline_delay_data = pd.DataFrame.from_dict(airline_arrival_delay_data).transpose()\n",
    "df_airline_delay_data.rename_axis(\"airline\",inplace=True)\n",
    "df_airline_delay_data\n"
   ]
  },
  {
   "source": [
    "Next, I'll sort the rows by delay_expected_value to determine which airlines have the longest delays, based on the metrics described above."
   ],
   "cell_type": "markdown",
   "metadata": {}
  },
  {
   "cell_type": "code",
   "execution_count": 11,
   "metadata": {},
   "outputs": [
    {
     "output_type": "execute_result",
     "data": {
      "text/plain": [
       "         mean_arrival_delay  proportion_delayed  delay_expected_value\n",
       "airline                                                              \n",
       "NK                41.449975            0.491122             20.356981\n",
       "F9                42.062584            0.467565             19.666997\n",
       "B6                38.897633            0.382846             14.891811\n",
       "UA                39.658034            0.371405             14.729206\n",
       "MQ                39.743376            0.362248             14.396970\n",
       "EV                35.700212            0.376077             13.426019\n",
       "OO                33.003606            0.381379             12.586874\n",
       "AA                34.612147            0.353894             12.249036\n",
       "VX                30.858029            0.394125             12.161909\n",
       "WN                29.822739            0.380227             11.339423\n",
       "US                27.419925            0.383892             10.526276\n",
       "DL                32.581496            0.293628              9.566839\n",
       "AS                22.806295            0.331855              7.568382\n",
       "HA                15.515501            0.398886              6.188919"
      ],
      "text/html": "<div>\n<style scoped>\n    .dataframe tbody tr th:only-of-type {\n        vertical-align: middle;\n    }\n\n    .dataframe tbody tr th {\n        vertical-align: top;\n    }\n\n    .dataframe thead th {\n        text-align: right;\n    }\n</style>\n<table border=\"1\" class=\"dataframe\">\n  <thead>\n    <tr style=\"text-align: right;\">\n      <th></th>\n      <th>mean_arrival_delay</th>\n      <th>proportion_delayed</th>\n      <th>delay_expected_value</th>\n    </tr>\n    <tr>\n      <th>airline</th>\n      <th></th>\n      <th></th>\n      <th></th>\n    </tr>\n  </thead>\n  <tbody>\n    <tr>\n      <th>NK</th>\n      <td>41.449975</td>\n      <td>0.491122</td>\n      <td>20.356981</td>\n    </tr>\n    <tr>\n      <th>F9</th>\n      <td>42.062584</td>\n      <td>0.467565</td>\n      <td>19.666997</td>\n    </tr>\n    <tr>\n      <th>B6</th>\n      <td>38.897633</td>\n      <td>0.382846</td>\n      <td>14.891811</td>\n    </tr>\n    <tr>\n      <th>UA</th>\n      <td>39.658034</td>\n      <td>0.371405</td>\n      <td>14.729206</td>\n    </tr>\n    <tr>\n      <th>MQ</th>\n      <td>39.743376</td>\n      <td>0.362248</td>\n      <td>14.396970</td>\n    </tr>\n    <tr>\n      <th>EV</th>\n      <td>35.700212</td>\n      <td>0.376077</td>\n      <td>13.426019</td>\n    </tr>\n    <tr>\n      <th>OO</th>\n      <td>33.003606</td>\n      <td>0.381379</td>\n      <td>12.586874</td>\n    </tr>\n    <tr>\n      <th>AA</th>\n      <td>34.612147</td>\n      <td>0.353894</td>\n      <td>12.249036</td>\n    </tr>\n    <tr>\n      <th>VX</th>\n      <td>30.858029</td>\n      <td>0.394125</td>\n      <td>12.161909</td>\n    </tr>\n    <tr>\n      <th>WN</th>\n      <td>29.822739</td>\n      <td>0.380227</td>\n      <td>11.339423</td>\n    </tr>\n    <tr>\n      <th>US</th>\n      <td>27.419925</td>\n      <td>0.383892</td>\n      <td>10.526276</td>\n    </tr>\n    <tr>\n      <th>DL</th>\n      <td>32.581496</td>\n      <td>0.293628</td>\n      <td>9.566839</td>\n    </tr>\n    <tr>\n      <th>AS</th>\n      <td>22.806295</td>\n      <td>0.331855</td>\n      <td>7.568382</td>\n    </tr>\n    <tr>\n      <th>HA</th>\n      <td>15.515501</td>\n      <td>0.398886</td>\n      <td>6.188919</td>\n    </tr>\n  </tbody>\n</table>\n</div>"
     },
     "metadata": {},
     "execution_count": 11
    }
   ],
   "source": [
    "df_airline_delay_data.sort_values('delay_expected_value',ascending=False,inplace=True)\n",
    "df_airline_delay_data"
   ]
  },
  {
   "source": [
    "According to this table, Spirit Airlines (NK) and Frontier Airlines (F9) have the longest expected arrival delay values based on the flights in our dataset, and Hawaiian Airlines (HA) and Alaska Airlines (AS) have the shortest. These values are shaped by my decisions about how to calculate mean arrival delays, and the delay figures that actual industry analysts and government agencies use may be lower. "
   ],
   "cell_type": "markdown",
   "metadata": {}
  },
  {
   "source": [
    "Finally, I will save this DataFrame (not the one I just created above) as a CSV file using the to_csv() function:"
   ],
   "cell_type": "markdown",
   "metadata": {}
  },
  {
   "cell_type": "code",
   "execution_count": 12,
   "metadata": {},
   "outputs": [],
   "source": [
    "df_airline_delay_data.to_csv('airline_delay_data.csv')"
   ]
  },
  {
   "source": [
    "Given that there are multiple ways to interpret delays, I'll also compare the airlines in this dataset using a much simpler measure: their mean delay time for all flights, not only those with a delay greater than 0. The following code calculates this version of the mean delay time for each airline, then stores it within a dictionary. (This code will answer the question: \"For each airline, what is the average difference between when a flight is supposed to arrive and when it actually arrives?\" The larger the value, the higher the average delay.)"
   ],
   "cell_type": "markdown",
   "metadata": {}
  },
  {
   "cell_type": "code",
   "execution_count": 13,
   "metadata": {},
   "outputs": [
    {
     "output_type": "execute_result",
     "data": {
      "text/plain": [
       "{'AS': -0.7914090113039325,\n",
       " 'AA': 3.9352136660833175,\n",
       " 'US': 3.7062088424131026,\n",
       " 'DL': 0.6802647653485016,\n",
       " 'NK': 15.210786320067772,\n",
       " 'UA': 6.21131564254273,\n",
       " 'HA': 2.161856334598582,\n",
       " 'B6': 6.94933917038418,\n",
       " 'OO': 6.221438197483382,\n",
       " 'EV': 6.964550126466531,\n",
       " 'MQ': 7.316540271458018,\n",
       " 'F9': 13.729467715383208,\n",
       " 'WN': 4.83783107128739,\n",
       " 'VX': 4.979538817121459}"
      ]
     },
     "metadata": {},
     "execution_count": 13
    }
   ],
   "source": [
    "simpler_delay_comparison = {}\n",
    "for airline in airlines_array:\n",
    "    mean_arrival_delay = df[(df.AIRLINE==airline)].ARRIVAL_DELAY.mean()\n",
    "    simpler_delay_comparison[airline]=mean_arrival_delay\n",
    "simpler_delay_comparison\n"
   ]
  },
  {
   "source": [
    "Next, I'll convert this single dictionary into a dataframe, which requires some extra code (e.g. orient='index' within the first line)."
   ],
   "cell_type": "markdown",
   "metadata": {}
  },
  {
   "cell_type": "code",
   "execution_count": 14,
   "metadata": {},
   "outputs": [
    {
     "output_type": "execute_result",
     "data": {
      "text/plain": [
       "    mean_arrival_delay\n",
       "NK           15.210786\n",
       "F9           13.729468\n",
       "MQ            7.316540\n",
       "EV            6.964550\n",
       "B6            6.949339\n",
       "OO            6.221438\n",
       "UA            6.211316\n",
       "VX            4.979539\n",
       "WN            4.837831\n",
       "AA            3.935214\n",
       "US            3.706209\n",
       "HA            2.161856\n",
       "DL            0.680265\n",
       "AS           -0.791409"
      ],
      "text/html": "<div>\n<style scoped>\n    .dataframe tbody tr th:only-of-type {\n        vertical-align: middle;\n    }\n\n    .dataframe tbody tr th {\n        vertical-align: top;\n    }\n\n    .dataframe thead th {\n        text-align: right;\n    }\n</style>\n<table border=\"1\" class=\"dataframe\">\n  <thead>\n    <tr style=\"text-align: right;\">\n      <th></th>\n      <th>mean_arrival_delay</th>\n    </tr>\n  </thead>\n  <tbody>\n    <tr>\n      <th>NK</th>\n      <td>15.210786</td>\n    </tr>\n    <tr>\n      <th>F9</th>\n      <td>13.729468</td>\n    </tr>\n    <tr>\n      <th>MQ</th>\n      <td>7.316540</td>\n    </tr>\n    <tr>\n      <th>EV</th>\n      <td>6.964550</td>\n    </tr>\n    <tr>\n      <th>B6</th>\n      <td>6.949339</td>\n    </tr>\n    <tr>\n      <th>OO</th>\n      <td>6.221438</td>\n    </tr>\n    <tr>\n      <th>UA</th>\n      <td>6.211316</td>\n    </tr>\n    <tr>\n      <th>VX</th>\n      <td>4.979539</td>\n    </tr>\n    <tr>\n      <th>WN</th>\n      <td>4.837831</td>\n    </tr>\n    <tr>\n      <th>AA</th>\n      <td>3.935214</td>\n    </tr>\n    <tr>\n      <th>US</th>\n      <td>3.706209</td>\n    </tr>\n    <tr>\n      <th>HA</th>\n      <td>2.161856</td>\n    </tr>\n    <tr>\n      <th>DL</th>\n      <td>0.680265</td>\n    </tr>\n    <tr>\n      <th>AS</th>\n      <td>-0.791409</td>\n    </tr>\n  </tbody>\n</table>\n</div>"
     },
     "metadata": {},
     "execution_count": 14
    }
   ],
   "source": [
    "simpler_delay_table = pd.DataFrame.from_dict(simpler_delay_comparison,orient='index',columns=['mean_arrival_delay'])\n",
    "simpler_delay_table.sort_values('mean_arrival_delay',ascending=False,inplace=True)\n",
    "df_airline_delay_data.rename_axis(\"airline\",inplace=True)\n",
    "simpler_delay_table"
   ]
  },
  {
   "source": [
    "This DataFrame's mean arrival delay values are quite lower than the previous one's due to the inclusion of 0 and negative delay times in our calculation. However, Spirit and Frontier continue to have the two largest mean arrival delay times, and the same 3 airlines appear at the bottom of our list (albeit in a different order)."
   ],
   "cell_type": "markdown",
   "metadata": {}
  },
  {
   "source": [
    "I am still very new to Python, but I'm impressed by how little code it takes to perform statistical analysis of giant dataframes. I look forward to continuing to learn about both Python and business analytics during my time at CBS.\n",
    "\n",
    "--Kenneth Burchfiel\n",
    "\n",
    "First edition of this notebook was completed on Feb. 12, 2021\n",
    "\n",
    "This exercise was inspired by an assignment written by CBS professors Daniel Guetta and Hongseok Namkoong, with help from Ander Unterga del Orden, and was uploaded to GitHub with permission from Professor Namkoong. The dataset I used also came from this assignment."
   ],
   "cell_type": "markdown",
   "metadata": {}
  }
 ]
}